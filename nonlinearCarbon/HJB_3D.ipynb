{
 "cells": [
  {
   "cell_type": "markdown",
   "id": "10f398d4",
   "metadata": {},
   "source": [
    "Globally averaged temperature:\n",
    "\n",
    "$$\n",
    "\\frac{dT}{dt} = R_i(T) -  R_0(T, C)\n",
    "$$\n",
    "\n",
    "Accumulated anthropogenic carbon, $S_a$\n",
    "$$\n",
    "\\frac{d S_a}{dt} = C_a\n",
    "$$\n",
    "\n",
    "Atmospheric carbon concentration:\n",
    "\n",
    "$$\n",
    "\\frac{dC}{dt} = v + C_a - W_a A_v C + \\frac{c_0}{\\tau_c} \\kappa_P (1 - f(T)) + \\frac{c_0}{\\tau_c} \\kappa_B(S_a) (1 - f(T)) - \\frac{\\lambda}{\\tau_c} C(1 - f(T))\n",
    "$$\n",
    "\n",
    "Temperature anomaly:\n",
    "$$\n",
    "\\tilde{T} = T - T_0\n",
    "$$\n",
    "\n",
    "\n",
    "\n",
    "$$\n",
    "\\begin{align}\n",
    "\\delta \\phi(\\tilde{T}, C, S_a) =& \\max_{C_a} \\eta \\delta \\log C_a  \\\\\n",
    "& + \\frac{d \\phi (\\tilde{T}, C, S_a)}{d\\tilde{T}} \\left( R_i(T) - R_0(T, C) \\right)\\\\\n",
    "& + \\frac{d\\phi(\\tilde{T}, C, S_a)}{d C} \\left( v + C_a - W_a A_v C + \\frac{c_0}{\\tau_c} \\kappa_P (1 - f(T)) + \\frac{c_0}{\\tau_c} \\kappa_B(S_a) (1 - f(T)) - \\frac{\\lambda}{\\tau_c} C(1 - f(T))\\right)\\\\\n",
    "& + \\frac{d \\phi (\\tilde{T}, C, S_a)}{d S_a} C_a \\\\\n",
    "& + (\\eta - 1) (\\gamma_1 + \\gamma_2 \\tilde{T}) (R_i(T) - R_0(T, C))\n",
    "\\end{align}\n",
    "$$\n",
    "\n",
    "$$\n",
    "C_a^{*} = - \\frac{\\delta \\eta}{\\frac{d \\phi (\\tilde{T}, C, S_a)}{d\\tilde{T}} + \\frac{d \\phi (\\tilde{T}, C, S_a)}{d S_a} }\n",
    "$$"
   ]
  },
  {
   "cell_type": "code",
   "execution_count": 1,
   "id": "13867e2c",
   "metadata": {},
   "outputs": [],
   "source": [
    "import numpy as np\n",
    "import pandas as pd\n",
    "from scipy.integrate import solve_ivp\n",
    "from scipy.fft import fft, fftfreq\n",
    "from matplotlib import pyplot as plt\n",
    "from matplotlib import rcParams\n",
    "from matplotlib.colors import SymLogNorm\n",
    "import matplotlib.mlab\n",
    "import scipy.io as sio\n",
    "import pandas as pd\n",
    "import scipy.optimize as optim\n",
    "from scipy.optimize import curve_fit\n",
    "from scipy import interpolate\n",
    "from scipy import fft, arange, signal\n",
    "import SolveLinSys\n",
    "from supportfunctions import finiteDiff\n",
    "rcParams[\"figure.figsize\"] = (8,5)\n",
    "                                                                                \n",
    "def PDESolver(stateSpace, A, B1, B2, B3, C1, C2, C3, D, v0, \n",
    "              ε = 1, tol = -10):                                              \n",
    "                                                                                 \n",
    "\n",
    "    A = A.reshape(-1,1,order = 'F')                                         \n",
    "    B = np.hstack([B1.reshape(-1,1,order = 'F'),B2.reshape(-1,1,order = 'F'),B3.reshape(-1,1,order='F')])\n",
    "    C = np.hstack([C1.reshape(-1,1,order = 'F'),C2.reshape(-1,1,order = 'F'),C3.reshape(-1,1,order='F')])\n",
    "    D = D.reshape(-1,1,order = 'F')                                         \n",
    "    v0 = v0.reshape(-1,1,order = 'F')                                       \n",
    "    out = SolveLinSys.solveFT(stateSpace, A, B, C, D, v0, ε, tol)           \n",
    "\n",
    "    return out                                                            "
   ]
  },
  {
   "cell_type": "code",
   "execution_count": 15,
   "id": "9dfbd49e",
   "metadata": {},
   "outputs": [],
   "source": [
    "sa = 1\n",
    "# Incoming radiation\n",
    "Q0 = 342.5\n",
    "## land fraction and albedo\n",
    "#Fraction of land on the planet\n",
    "p = 0.3\n",
    "\n",
    "## outgoing radiation linearized\n",
    "kappa = 1.74\n",
    "Tkappa = 154\n",
    "# Greenhouse effect parameter\n",
    "B = 5.35\n",
    "\n",
    "## Volcanism\n",
    "Volcan = 0.028\n",
    "\n",
    "## Biopump parameters\n",
    "# Cbio_low = 150\n",
    "# Cbio_high = 1000\n",
    "\n",
    "Ts = 282.9\n",
    "Cs = 275.5\n",
    "\n",
    "#wa = 0.05\n",
    "#cod = 0.15\n",
    "alphaland = 0.28\n",
    "bP = 0.05\n",
    "bB = 0.08\n",
    "cod = 3.035\n",
    "cearth = 0.107\n",
    "tauc = 20\n",
    "coc0 =350\n",
    "## Ocean albedo parameters\n",
    "Talphaocean_low  = 219\n",
    "Talphaocean_high = 299\n",
    "alphaocean_max   = 0.84\n",
    "alphaocean_min   = 0.255\n",
    "\n",
    "\n",
    "Cbio_low = 50\n",
    "Cbio_high = 700\n",
    "\n",
    "T0 = 298\n",
    "C0 = 280\n",
    "\n",
    "## CO2 uptake by vegetation\n",
    "wa = 0.015\n",
    "vegcover = 0.4\n",
    "\n",
    "Thigh = 315\n",
    "Tlow = 282\n",
    "Topt1 = 295\n",
    "Topt2 = 310\n",
    "acc = 5\n",
    "\n",
    "\n",
    "# Ocean albedo\n",
    "def alphaocean(T):\n",
    "    \"\"\"T, matrix, (nT, nC, nF)\"\"\"\n",
    "    temp = np.zeros(T.shape)\n",
    "    temp[ T< Talphaocean_low ] = alphaocean_max\n",
    "    temp[ (T>= Talphaocean_low)&(T< Talphaocean_high)] = alphaocean_max + (alphaocean_min - alphaocean_max) / (Talphaocean_high - Talphaocean_low) * (T[(T>= Talphaocean_low)&(T< Talphaocean_high)] - Talphaocean_low)\n",
    "    temp[T>= Talphaocean_high] = alphaocean_min\n",
    "\n",
    "    return temp\n",
    "    \n",
    "#Fraction of ocean covered by ice\n",
    "def fracseaice(T):\n",
    "    \n",
    "    temp = np.zeros(T.shape)\n",
    "    temp[ T< Talphaocean_low ] = 1\n",
    "    temp[ (T>= Talphaocean_low)&(T< Talphaocean_high)] = 1 - 1 / (Talphaocean_high - Talphaocean_low) * (T[(T>= Talphaocean_low)&(T< Talphaocean_high)] - Talphaocean_low)\n",
    "    temp[T>= Talphaocean_high] = 0\n",
    "\n",
    "    return temp\n",
    "    \n",
    "# Biopump modulation\n",
    "\n",
    "# Cbio_low = 50\n",
    "# Cbio_high = 700\n",
    "\n",
    "\n",
    "# def biopump(Cc):\n",
    "#     if Cc < Cbio_low:\n",
    "#         return 1\n",
    "#     elif Cc < Cbio_high:\n",
    "#         return 1 - 1 / (Cbio_high - Cbio_low) * (Cc - Cbio_low)\n",
    "#         #return 1 - 2 / (Cbio_high - Cbio_low) * (Cc - Cbio_low)\n",
    "#     else: # so Cc is higher\n",
    "#         return 0\n",
    "#         #return -1\n",
    "# biopump = np.vectorize(biopump)\n",
    "\n",
    "# biomodulation = [biopump(val) for val in Cc]\n",
    "# biomod = np.float_(biomodulation)\n",
    "\n",
    "def biopump(F):\n",
    "    \"\"\"F, accumulated anthrpogenic emission\"\"\"\n",
    "    temp = np.zeros(F.shape)\n",
    "    \n",
    "    temp[F < Cbio_low] = 1\n",
    "    temp[(F >= Cbio_low)&(F < Cbio_high)] = 1 - 1/(Cbio_high - Cbio_low) * (F[(F >= Cbio_low)&(F < Cbio_high)] - Cbio_low)\n",
    "    temp[F >= Cbio_high] = 0\n",
    "    return temp\n",
    "\n",
    "# def bioefficiency(t):\n",
    "#     t_points = t_val\n",
    "#     em_points = biomod\n",
    "    \n",
    "#     tck = interpolate.splrep(t_points, em_points)\n",
    "#     return interpolate.splev(t,tck)\n",
    "\n",
    "\n",
    "# Vegetation growth function\n",
    "# def veggrowth(T):\n",
    "#     if T < Tlow:\n",
    "#         return 0\n",
    "#     if (T >= Tlow) and (T < Topt1):\n",
    "#         return acc / (Topt1 - Tlow) * (T - Tlow)\n",
    "#     if (T >= Topt1) and (T <= Topt2):\n",
    "#         return acc\n",
    "#     if (T > Topt2) and (T < Thigh):\n",
    "#         #return acc\n",
    "#         return acc / (Topt2 - Thigh) * (T - Thigh)\n",
    "#     if T > Thigh:\n",
    "#         #return acc\n",
    "#         return 0\n",
    "\n",
    "def veggrowth(T):\n",
    "    \n",
    "    temp = np.zeros(T.shape)\n",
    "    \n",
    "    temp[T < Tlow] = 0\n",
    "    temp[(T >= Tlow)&(T < Topt1)] = acc / (Topt1 - Tlow) * (T[(T >= Tlow)&(T < Topt1)] - Tlow)\n",
    "    temp[(T >= Topt1)&(T < Topt2)] = acc\n",
    "    temp[(T >= Topt2)&(T < Thigh)] = acc / (Topt2 - Thigh) * (T[(T >= Topt2)&(T < Thigh)] - Thigh)\n",
    "    temp[T > Thigh] = 0\n",
    "    \n",
    "    return temp\n",
    "\n",
    "\n",
    "\n",
    "\n",
    "\n",
    "#Incoming radiation modified by albedo\n",
    "def Ri(T):\n",
    "    return 1/cearth * (Q0 * (1 - p * alphaland - (1 - p) * alphaocean(T)))\n",
    "\n",
    "# Outgoing radiation modified by greenhouse effect\n",
    "def Ro(T, C):\n",
    "    return 1/cearth * (kappa * (T - Tkappa) -  B * np.log(C / C0))\n",
    "\n",
    "#Solubility of atmospheric carbon into the oceans\n",
    "# carbon pumps\n",
    "def kappaP(T):\n",
    "    return np.exp(-bP * (T - T0))\n",
    "\n",
    "def oceanatmphysflux(T):\n",
    "    return 1 / tauc * (coc0 * (np.exp(-bP * (T - T0))))\n",
    "\n",
    "def oceanbioflux(T, F, sa):\n",
    "    \n",
    "    if sa == 1:\n",
    "        \n",
    "        return 1/tauc * (coc0 * (np.exp(bB * biopump(F) * (T - T0))))\n",
    "    \n",
    "    elif sa == 0:\n",
    "        \n",
    "        return 1/tauc * (coc0 * (np.exp(bB * (T - T0))))\n",
    "    \n",
    "    else:\n",
    "        return ValueError(\"Wrong input value: 0 or 1.\")\n",
    "\n",
    "def oceanatmcorrflux(C):\n",
    "    return 1 / tauc * (- cod * C)"
   ]
  },
  {
   "cell_type": "code",
   "execution_count": 61,
   "id": "ac18014d",
   "metadata": {},
   "outputs": [
    {
     "data": {
      "text/plain": [
       "(21, 26, 33)"
      ]
     },
     "execution_count": 61,
     "metadata": {},
     "output_type": "execute_result"
    }
   ],
   "source": [
    "# Economic paramaters\n",
    "gamma_1 = 1.7675 / 10000.\n",
    "gamma_2 = 2 * 0.0022\n",
    "delta = 0.01\n",
    "eta = 0.032\n",
    "\n",
    "# State variable\n",
    "# Temperature anomaly\n",
    "T_min = -20.\n",
    "T_max =  20.\n",
    "hT = 2.\n",
    "T_grid = np.arange(T_min, T_max + hT, hT)\n",
    "\n",
    "# atmospheric carbon concentration\n",
    "C_min = 10.\n",
    "C_max = 1000.\n",
    "hC = 40.\n",
    "C_grid = np.arange(C_min, C_max + hC, hC)\n",
    "\n",
    "# F, Sa in the notes, accumulative anthropogenic carbon\n",
    "F_min = 0.\n",
    "F_max = 800.\n",
    "hF = 25.\n",
    "F_grid = np.arange(F_min, F_max + hF, hF)\n",
    "\n",
    "# meshgrid\n",
    "(T_mat, C_mat, F_mat) = np.meshgrid(T_grid, C_grid, F_grid, indexing=\"ij\")\n",
    "stateSpace = np.hstack([\n",
    "    T_mat.reshape(-1, 1, order=\"F\"),\n",
    "    C_mat.reshape(-1, 1, order=\"F\"),\n",
    "    F_mat.reshape(-1, 1, order=\"F\")\n",
    "])\n",
    "\n",
    "T_mat.shape"
   ]
  },
  {
   "cell_type": "code",
   "execution_count": 62,
   "id": "35023ea8",
   "metadata": {},
   "outputs": [
    {
     "data": {
      "image/png": "[encoded data removed]",
      "text/plain": [
       "<Figure size 576x360 with 1 Axes>"
      ]
     },
     "metadata": {
      "needs_background": "light"
     },
     "output_type": "display_data"
    }
   ],
   "source": [
    "dG  = gamma_1 + gamma_2 * T_grid\n",
    "G = gamma_1 * T_grid + gamma_2 / 2 * T_grid**2\n",
    "plt.plot(T_grid, np.exp( -G) )\n",
    "plt.xlabel(\"Temperature anomaly\")\n",
    "plt.title(\"Proportional reduction in economic output\")\n",
    "plt.show()"
   ]
  },
  {
   "cell_type": "code",
   "execution_count": 63,
   "id": "d0305bc0",
   "metadata": {},
   "outputs": [
    {
     "data": {
      "image/png": "[encoded data removed]",
      "text/plain": [
       "<Figure size 576x360 with 1 Axes>"
      ]
     },
     "metadata": {
      "needs_background": "light"
     },
     "output_type": "display_data"
    }
   ],
   "source": [
    "bio_pump_efficiency = biopump(F_grid)\n",
    "plt.plot(F_grid, bio_pump_efficiency)\n",
    "plt.xlabel(\"Accumulative anthropogenic carbon\")\n",
    "plt.title(\"Bio pump efficiency\")\n",
    "plt.xlim(0, 800)\n",
    "plt.show()"
   ]
  },
  {
   "cell_type": "code",
   "execution_count": 64,
   "id": "00e19ed9",
   "metadata": {
    "scrolled": true
   },
   "outputs": [
    {
     "name": "stdout",
     "output_type": "stream",
     "text": [
      "Total iteration 1000: LHS Error: 0.3540421772851232; RHS Error 17.313922189073985\n"
     ]
    }
   ],
   "source": [
    "v0 =  - delta *  F_mat - delta * np.log( C_mat)\n",
    "\n",
    "dG  = gamma_1 + gamma_2 * T_mat\n",
    "\n",
    "epsilon  = 0.05\n",
    "count    = 0\n",
    "error    = 1.\n",
    "tol      = 1e-8\n",
    "max_iter = 1000\n",
    "fraction = 0.1\n",
    "\n",
    "\n",
    "while error > tol and count < max_iter:\n",
    "    \n",
    "    dvdT  = finiteDiff(v0, 0, 1, hT)\n",
    "    dvdTT = finiteDiff(v0, 0, 2, hT)\n",
    "    dvdC  = finiteDiff(v0, 1, 1, hC)\n",
    "#     dvdC[dvdC >= - 1e-16] = - 1e-16\n",
    "    dvdCC = finiteDiff(v0, 1, 2, hC)\n",
    "    dvdF  = finiteDiff(v0, 2, 1, hF)\n",
    "    dvdFF = finiteDiff(v0, 2, 2, hF)\n",
    "\n",
    "        \n",
    "\n",
    "    Ca = - eta * delta / (dvdC + dvdF)\n",
    "    Ca[Ca <= 1e-32] = 1e-32\n",
    "    \n",
    "    if count >=1:\n",
    "        Ca = Ca * fraction + Ca_star * (1 - fraction)\n",
    "       \n",
    "    A  = - delta * np.ones(T_mat.shape)\n",
    "    B1 = Ri(T_mat + T0) - Ro(T_mat + T0, C_mat)\n",
    "    B2 = Volcan\n",
    "    B2 += Ca * sa\n",
    "    B2 -= wa * (C_mat) * vegcover * veggrowth(T_mat +T0)\n",
    "    B2 += oceanatmphysflux(T_mat + T0) * (1 - fracseaice(T_mat + T0))\n",
    "    B2 += oceanbioflux(T_mat + T0, F_mat, sa) * (1 - fracseaice(T_mat + T0))\n",
    "    B2 += oceanatmcorrflux(C_mat) * (1 - fracseaice(T_mat + T0))\n",
    "    B3 = Ca\n",
    "    C1 = np.zeros(T_mat.shape)\n",
    "    C2 = np.zeros(T_mat.shape)\n",
    "    C3 = np.zeros(T_mat.shape)\n",
    "    D  = eta  * delta * np.log(Ca) + (eta - 1) * dG * B1\n",
    "\n",
    "    out = PDESolver(stateSpace, A, B1, B2, B3, C1, C2, C3, D, v0, epsilon)\n",
    "    v = out[2].reshape(v0.shape, order=\"F\")\n",
    "\n",
    "    rhs_error = A * v0 + B1 * dvdT + B2 * dvdC + B3 * dvdF + C1 * dvdTT + C2 * dvdCC + C3 * dvdFF + D\n",
    "    rhs_error = np.max(abs(rhs_error))\n",
    "    lhs_error = np.max(abs((v - v0)/epsilon))\n",
    "\n",
    "    error = lhs_error\n",
    "    v0 = v\n",
    "    Ca_star = Ca\n",
    "    count += 1\n",
    "\n",
    "#     print(\"Iteration %s: False Transient Error: %s; PDE Error %s\" % (count, lhs_error, rhs_error))\n",
    "\n",
    "print(\"Total iteration %s: LHS Error: %s; RHS Error %s\" % (count, lhs_error, rhs_error))"
   ]
  },
  {
   "cell_type": "code",
   "execution_count": 65,
   "id": "176759e0",
   "metadata": {},
   "outputs": [
    {
     "data": {
      "text/plain": [
       "(66.76802580059257,\n",
       " -472.8368610227785,\n",
       " -77.56865619673302,\n",
       " -10.04857603204099,\n",
       " -2.1490073933901197,\n",
       " 1.0000000000000016e-32,\n",
       " 456.71138383470884)"
      ]
     },
     "execution_count": 65,
     "metadata": {},
     "output_type": "execute_result"
    }
   ],
   "source": [
    "B1.max(), B1.min(), v0.min(), v0.mean(), v0.max(), Ca.min(), Ca.max()"
   ]
  },
  {
   "cell_type": "code",
   "execution_count": 66,
   "id": "a5e1911a",
   "metadata": {},
   "outputs": [
    {
     "data": {
      "image/png": "[encoded data removed]",
      "text/plain": [
       "<Figure size 576x360 with 1 Axes>"
      ]
     },
     "metadata": {
      "needs_background": "light"
     },
     "output_type": "display_data"
    }
   ],
   "source": [
    "plt.plot(T_grid + T0, v0[:, :,10])\n",
    "plt.xlabel(\"Temperature (K)\")\n",
    "plt.title(\"Value function, different levels of carbon concentration, accumulative emission={}\".format(F_grid[11]))\n",
    "plt.show()"
   ]
  },
  {
   "cell_type": "code",
   "execution_count": 1,
   "id": "8a4cd70e",
   "metadata": {},
   "outputs": [
    {
     "ename": "NameError",
     "evalue": "name 'plt' is not defined",
     "output_type": "error",
     "traceback": [
      "\u001b[0;31m---------------------------------------------------------------------------\u001b[0m",
      "\u001b[0;31mNameError\u001b[0m                                 Traceback (most recent call last)",
      "\u001b[0;32m/tmp/ipykernel_18426/588471227.py\u001b[0m in \u001b[0;36m<module>\u001b[0;34m\u001b[0m\n\u001b[0;32m----> 1\u001b[0;31m \u001b[0mplt\u001b[0m\u001b[0;34m.\u001b[0m\u001b[0mplot\u001b[0m\u001b[0;34m(\u001b[0m\u001b[0mT_grid\u001b[0m \u001b[0;34m+\u001b[0m \u001b[0mT0\u001b[0m\u001b[0;34m,\u001b[0m \u001b[0mCa\u001b[0m\u001b[0;34m[\u001b[0m\u001b[0;34m:\u001b[0m\u001b[0;34m,\u001b[0m \u001b[0;34m:\u001b[0m\u001b[0;34m,\u001b[0m \u001b[0;36m1\u001b[0m\u001b[0;34m]\u001b[0m\u001b[0;34m)\u001b[0m\u001b[0;34m\u001b[0m\u001b[0;34m\u001b[0m\u001b[0m\n\u001b[0m\u001b[1;32m      2\u001b[0m \u001b[0mplt\u001b[0m\u001b[0;34m.\u001b[0m\u001b[0mxlabel\u001b[0m\u001b[0;34m(\u001b[0m\u001b[0;34m\"Temperature (K)\"\u001b[0m\u001b[0;34m)\u001b[0m\u001b[0;34m\u001b[0m\u001b[0;34m\u001b[0m\u001b[0m\n\u001b[1;32m      3\u001b[0m \u001b[0mplt\u001b[0m\u001b[0;34m.\u001b[0m\u001b[0mtitle\u001b[0m\u001b[0;34m(\u001b[0m\u001b[0;34m\"Anthropogenic emissions\"\u001b[0m\u001b[0;34m)\u001b[0m\u001b[0;34m\u001b[0m\u001b[0;34m\u001b[0m\u001b[0m\n\u001b[1;32m      4\u001b[0m \u001b[0mplt\u001b[0m\u001b[0;34m.\u001b[0m\u001b[0mshow\u001b[0m\u001b[0;34m(\u001b[0m\u001b[0;34m)\u001b[0m\u001b[0;34m\u001b[0m\u001b[0;34m\u001b[0m\u001b[0m\n",
      "\u001b[0;31mNameError\u001b[0m: name 'plt' is not defined"
     ]
    }
   ],
   "source": [
    "plt.plot(T_grid + T0, Ca[:, :, 1])\n",
    "plt.xlabel(\"Temperature (K)\")\n",
    "plt.title(\"Anthropogenic emissions\")\n",
    "plt.show()"
   ]
  }
 ],
 "metadata": {
  "kernelspec": {
   "display_name": "py37",
   "language": "python",
   "name": "py37"
  },
  "language_info": {
   "codemirror_mode": {
    "name": "ipython",
    "version": 3
   },
   "file_extension": ".py",
   "mimetype": "text/x-python",
   "name": "python",
   "nbconvert_exporter": "python",
   "pygments_lexer": "ipython3",
   "version": "3.7.6"
  }
 },
 "nbformat": 4,
 "nbformat_minor": 5
}
